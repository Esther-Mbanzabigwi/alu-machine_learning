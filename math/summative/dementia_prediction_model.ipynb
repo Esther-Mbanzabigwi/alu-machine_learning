{
  "cells": [
    {
      "cell_type": "code",
      "execution_count": 582,
      "metadata": {
        "id": "NT1MMeQa_NGB"
      },
      "outputs": [],
      "source": [
        "# Mobile Price Prediction using Linear Regression\n",
        "import pandas as pd\n",
        "import numpy as np\n",
        "import matplotlib.pyplot as plt\n",
        "from sklearn.model_selection import train_test_split\n",
        "from sklearn.linear_model import LinearRegression\n",
        "from sklearn.metrics import  r2_score\n",
        "from sklearn.preprocessing import LabelEncoder\n",
        "from sklearn.metrics import mean_absolute_error\n",
        "import joblib"
      ]
    },
    {
      "cell_type": "code",
      "execution_count": 583,
      "metadata": {
        "id": "1JPiZphuBiAv"
      },
      "outputs": [],
      "source": [
        "dementiaData = pd.read_csv(\"Data/dementia_patients.csv\")"
      ]
    },
    {
      "cell_type": "code",
      "execution_count": 584,
      "metadata": {
        "colab": {
          "base_uri": "https://localhost:8080/"
        },
        "id": "HsmEpyJlCcjS",
        "outputId": "d29d0456-8269-4412-a8d5-7f33761df01e"
      },
      "outputs": [
        {
          "data": {
            "text/plain": [
              "(1000, 24)"
            ]
          },
          "execution_count": 584,
          "metadata": {},
          "output_type": "execute_result"
        }
      ],
      "source": [
        "dementiaData.shape"
      ]
    },
    {
      "cell_type": "code",
      "execution_count": 585,
      "metadata": {
        "colab": {
          "base_uri": "https://localhost:8080/",
          "height": 179
        },
        "id": "cGMa31VdCfJ4",
        "outputId": "b0f035f4-3c26-4e2d-909a-a5a71dd4e534"
      },
      "outputs": [
        {
          "data": {
            "text/html": [
              "<div>\n",
              "<style scoped>\n",
              "    .dataframe tbody tr th:only-of-type {\n",
              "        vertical-align: middle;\n",
              "    }\n",
              "\n",
              "    .dataframe tbody tr th {\n",
              "        vertical-align: top;\n",
              "    }\n",
              "\n",
              "    .dataframe thead th {\n",
              "        text-align: right;\n",
              "    }\n",
              "</style>\n",
              "<table border=\"1\" class=\"dataframe\">\n",
              "  <thead>\n",
              "    <tr style=\"text-align: right;\">\n",
              "      <th></th>\n",
              "      <th>Diabetic</th>\n",
              "      <th>AlcoholLevel</th>\n",
              "      <th>HeartRate</th>\n",
              "      <th>BloodOxygenLevel</th>\n",
              "      <th>BodyTemperature</th>\n",
              "      <th>Weight</th>\n",
              "      <th>MRI_Delay</th>\n",
              "      <th>Prescription</th>\n",
              "      <th>Dosage in mg</th>\n",
              "      <th>Age</th>\n",
              "      <th>...</th>\n",
              "      <th>Smoking_Status</th>\n",
              "      <th>APOE_ε4</th>\n",
              "      <th>Physical_Activity</th>\n",
              "      <th>Depression_Status</th>\n",
              "      <th>Cognitive_Test_Scores</th>\n",
              "      <th>Medication_History</th>\n",
              "      <th>Nutrition_Diet</th>\n",
              "      <th>Sleep_Quality</th>\n",
              "      <th>Chronic_Health_Conditions</th>\n",
              "      <th>Dementia</th>\n",
              "    </tr>\n",
              "  </thead>\n",
              "  <tbody>\n",
              "    <tr>\n",
              "      <th>0</th>\n",
              "      <td>1</td>\n",
              "      <td>0.084974</td>\n",
              "      <td>98</td>\n",
              "      <td>96.230743</td>\n",
              "      <td>36.224852</td>\n",
              "      <td>57.563978</td>\n",
              "      <td>36.421028</td>\n",
              "      <td>NaN</td>\n",
              "      <td>NaN</td>\n",
              "      <td>60</td>\n",
              "      <td>...</td>\n",
              "      <td>Current Smoker</td>\n",
              "      <td>Negative</td>\n",
              "      <td>Sedentary</td>\n",
              "      <td>No</td>\n",
              "      <td>10</td>\n",
              "      <td>No</td>\n",
              "      <td>Low-Carb Diet</td>\n",
              "      <td>Poor</td>\n",
              "      <td>Diabetes</td>\n",
              "      <td>0</td>\n",
              "    </tr>\n",
              "    <tr>\n",
              "      <th>1</th>\n",
              "      <td>0</td>\n",
              "      <td>0.016973</td>\n",
              "      <td>78</td>\n",
              "      <td>93.032122</td>\n",
              "      <td>36.183874</td>\n",
              "      <td>56.832335</td>\n",
              "      <td>31.157633</td>\n",
              "      <td>Galantamine</td>\n",
              "      <td>12.0</td>\n",
              "      <td>61</td>\n",
              "      <td>...</td>\n",
              "      <td>Former Smoker</td>\n",
              "      <td>Positive</td>\n",
              "      <td>Moderate Activity</td>\n",
              "      <td>No</td>\n",
              "      <td>1</td>\n",
              "      <td>Yes</td>\n",
              "      <td>Low-Carb Diet</td>\n",
              "      <td>Poor</td>\n",
              "      <td>Heart Disease</td>\n",
              "      <td>1</td>\n",
              "    </tr>\n",
              "  </tbody>\n",
              "</table>\n",
              "<p>2 rows × 24 columns</p>\n",
              "</div>"
            ],
            "text/plain": [
              "   Diabetic  AlcoholLevel  HeartRate  BloodOxygenLevel  BodyTemperature  \\\n",
              "0         1      0.084974         98         96.230743        36.224852   \n",
              "1         0      0.016973         78         93.032122        36.183874   \n",
              "\n",
              "      Weight  MRI_Delay Prescription  Dosage in mg  Age  ...  Smoking_Status  \\\n",
              "0  57.563978  36.421028          NaN           NaN   60  ...  Current Smoker   \n",
              "1  56.832335  31.157633  Galantamine          12.0   61  ...   Former Smoker   \n",
              "\n",
              "    APOE_ε4  Physical_Activity Depression_Status Cognitive_Test_Scores  \\\n",
              "0  Negative          Sedentary                No                    10   \n",
              "1  Positive  Moderate Activity                No                     1   \n",
              "\n",
              "  Medication_History Nutrition_Diet Sleep_Quality  Chronic_Health_Conditions  \\\n",
              "0                 No  Low-Carb Diet          Poor                   Diabetes   \n",
              "1                Yes  Low-Carb Diet          Poor              Heart Disease   \n",
              "\n",
              "  Dementia  \n",
              "0        0  \n",
              "1        1  \n",
              "\n",
              "[2 rows x 24 columns]"
            ]
          },
          "execution_count": 585,
          "metadata": {},
          "output_type": "execute_result"
        }
      ],
      "source": [
        "dementiaData.head(2)"
      ]
    },
    {
      "cell_type": "code",
      "execution_count": 586,
      "metadata": {
        "id": "WeSIFJk5DN_N"
      },
      "outputs": [],
      "source": [
        "# prompt: from dementiaData dataframe remove \"Prescription\" and \"Dosage in mg\" columns\n",
        "\n",
        "data1=dementiaData.drop(columns=['Prescription', 'Dosage in mg'])\n",
        "\n"
      ]
    },
    {
      "cell_type": "code",
      "execution_count": 587,
      "metadata": {},
      "outputs": [
        {
          "data": {
            "text/plain": [
              "(1000, 22)"
            ]
          },
          "execution_count": 587,
          "metadata": {},
          "output_type": "execute_result"
        }
      ],
      "source": [
        "data1.shape"
      ]
    },
    {
      "cell_type": "code",
      "execution_count": 588,
      "metadata": {},
      "outputs": [],
      "source": [
        "data1.dropna(inplace=True)"
      ]
    },
    {
      "cell_type": "code",
      "execution_count": 589,
      "metadata": {},
      "outputs": [
        {
          "data": {
            "text/plain": [
              "(821, 22)"
            ]
          },
          "execution_count": 589,
          "metadata": {},
          "output_type": "execute_result"
        }
      ],
      "source": [
        "data1.shape"
      ]
    },
    {
      "cell_type": "code",
      "execution_count": 590,
      "metadata": {},
      "outputs": [],
      "source": [
        "data1.drop_duplicates(inplace=True)"
      ]
    },
    {
      "cell_type": "code",
      "execution_count": 591,
      "metadata": {},
      "outputs": [
        {
          "data": {
            "text/plain": [
              "(821, 22)"
            ]
          },
          "execution_count": 591,
          "metadata": {},
          "output_type": "execute_result"
        }
      ],
      "source": [
        "data1.shape"
      ]
    },
    {
      "cell_type": "code",
      "execution_count": 592,
      "metadata": {
        "colab": {
          "base_uri": "https://localhost:8080/",
          "height": 161
        },
        "id": "p9hgwqNaEqYH",
        "outputId": "0e1f53f8-bce6-488d-81cc-b9c9e1cbe4c4"
      },
      "outputs": [
        {
          "data": {
            "text/html": [
              "<div>\n",
              "<style scoped>\n",
              "    .dataframe tbody tr th:only-of-type {\n",
              "        vertical-align: middle;\n",
              "    }\n",
              "\n",
              "    .dataframe tbody tr th {\n",
              "        vertical-align: top;\n",
              "    }\n",
              "\n",
              "    .dataframe thead th {\n",
              "        text-align: right;\n",
              "    }\n",
              "</style>\n",
              "<table border=\"1\" class=\"dataframe\">\n",
              "  <thead>\n",
              "    <tr style=\"text-align: right;\">\n",
              "      <th></th>\n",
              "      <th>Diabetic</th>\n",
              "      <th>AlcoholLevel</th>\n",
              "      <th>HeartRate</th>\n",
              "      <th>BloodOxygenLevel</th>\n",
              "      <th>BodyTemperature</th>\n",
              "      <th>Weight</th>\n",
              "      <th>MRI_Delay</th>\n",
              "      <th>Age</th>\n",
              "      <th>Education_Level</th>\n",
              "      <th>Dominant_Hand</th>\n",
              "      <th>...</th>\n",
              "      <th>Smoking_Status</th>\n",
              "      <th>APOE_ε4</th>\n",
              "      <th>Physical_Activity</th>\n",
              "      <th>Depression_Status</th>\n",
              "      <th>Cognitive_Test_Scores</th>\n",
              "      <th>Medication_History</th>\n",
              "      <th>Nutrition_Diet</th>\n",
              "      <th>Sleep_Quality</th>\n",
              "      <th>Chronic_Health_Conditions</th>\n",
              "      <th>Dementia</th>\n",
              "    </tr>\n",
              "  </thead>\n",
              "  <tbody>\n",
              "    <tr>\n",
              "      <th>0</th>\n",
              "      <td>1</td>\n",
              "      <td>0.084974</td>\n",
              "      <td>98</td>\n",
              "      <td>96.230743</td>\n",
              "      <td>36.224852</td>\n",
              "      <td>57.563978</td>\n",
              "      <td>36.421028</td>\n",
              "      <td>60</td>\n",
              "      <td>Primary School</td>\n",
              "      <td>Left</td>\n",
              "      <td>...</td>\n",
              "      <td>Current Smoker</td>\n",
              "      <td>Negative</td>\n",
              "      <td>Sedentary</td>\n",
              "      <td>No</td>\n",
              "      <td>10</td>\n",
              "      <td>No</td>\n",
              "      <td>Low-Carb Diet</td>\n",
              "      <td>Poor</td>\n",
              "      <td>Diabetes</td>\n",
              "      <td>0</td>\n",
              "    </tr>\n",
              "    <tr>\n",
              "      <th>1</th>\n",
              "      <td>0</td>\n",
              "      <td>0.016973</td>\n",
              "      <td>78</td>\n",
              "      <td>93.032122</td>\n",
              "      <td>36.183874</td>\n",
              "      <td>56.832335</td>\n",
              "      <td>31.157633</td>\n",
              "      <td>61</td>\n",
              "      <td>Secondary School</td>\n",
              "      <td>Right</td>\n",
              "      <td>...</td>\n",
              "      <td>Former Smoker</td>\n",
              "      <td>Positive</td>\n",
              "      <td>Moderate Activity</td>\n",
              "      <td>No</td>\n",
              "      <td>1</td>\n",
              "      <td>Yes</td>\n",
              "      <td>Low-Carb Diet</td>\n",
              "      <td>Poor</td>\n",
              "      <td>Heart Disease</td>\n",
              "      <td>1</td>\n",
              "    </tr>\n",
              "  </tbody>\n",
              "</table>\n",
              "<p>2 rows × 22 columns</p>\n",
              "</div>"
            ],
            "text/plain": [
              "   Diabetic  AlcoholLevel  HeartRate  BloodOxygenLevel  BodyTemperature  \\\n",
              "0         1      0.084974         98         96.230743        36.224852   \n",
              "1         0      0.016973         78         93.032122        36.183874   \n",
              "\n",
              "      Weight  MRI_Delay  Age   Education_Level Dominant_Hand  ...  \\\n",
              "0  57.563978  36.421028   60    Primary School          Left  ...   \n",
              "1  56.832335  31.157633   61  Secondary School         Right  ...   \n",
              "\n",
              "   Smoking_Status   APOE_ε4  Physical_Activity Depression_Status  \\\n",
              "0  Current Smoker  Negative          Sedentary                No   \n",
              "1   Former Smoker  Positive  Moderate Activity                No   \n",
              "\n",
              "  Cognitive_Test_Scores Medication_History  Nutrition_Diet Sleep_Quality  \\\n",
              "0                    10                 No   Low-Carb Diet          Poor   \n",
              "1                     1                Yes   Low-Carb Diet          Poor   \n",
              "\n",
              "  Chronic_Health_Conditions Dementia  \n",
              "0                  Diabetes        0  \n",
              "1             Heart Disease        1  \n",
              "\n",
              "[2 rows x 22 columns]"
            ]
          },
          "execution_count": 592,
          "metadata": {},
          "output_type": "execute_result"
        }
      ],
      "source": [
        "data1.head(2)"
      ]
    },
    {
      "cell_type": "code",
      "execution_count": 593,
      "metadata": {
        "id": "TOeGClngE738"
      },
      "outputs": [],
      "source": [
        "# prompt: I want to encode value from column \"Education_Level\" since the values into that column are string\n",
        "\n",
        "encoder = LabelEncoder()\n",
        "data1['Education_Level'] = encoder.fit_transform(data1['Education_Level'])\n"
      ]
    },
    {
      "cell_type": "code",
      "execution_count": 594,
      "metadata": {
        "colab": {
          "base_uri": "https://localhost:8080/",
          "height": 161
        },
        "id": "Aq2kRHc_Fv6s",
        "outputId": "c118df76-e723-4316-89b6-3f6ab6702e55"
      },
      "outputs": [
        {
          "data": {
            "text/html": [
              "<div>\n",
              "<style scoped>\n",
              "    .dataframe tbody tr th:only-of-type {\n",
              "        vertical-align: middle;\n",
              "    }\n",
              "\n",
              "    .dataframe tbody tr th {\n",
              "        vertical-align: top;\n",
              "    }\n",
              "\n",
              "    .dataframe thead th {\n",
              "        text-align: right;\n",
              "    }\n",
              "</style>\n",
              "<table border=\"1\" class=\"dataframe\">\n",
              "  <thead>\n",
              "    <tr style=\"text-align: right;\">\n",
              "      <th></th>\n",
              "      <th>Diabetic</th>\n",
              "      <th>AlcoholLevel</th>\n",
              "      <th>HeartRate</th>\n",
              "      <th>BloodOxygenLevel</th>\n",
              "      <th>BodyTemperature</th>\n",
              "      <th>Weight</th>\n",
              "      <th>MRI_Delay</th>\n",
              "      <th>Age</th>\n",
              "      <th>Education_Level</th>\n",
              "      <th>Dominant_Hand</th>\n",
              "      <th>...</th>\n",
              "      <th>Smoking_Status</th>\n",
              "      <th>APOE_ε4</th>\n",
              "      <th>Physical_Activity</th>\n",
              "      <th>Depression_Status</th>\n",
              "      <th>Cognitive_Test_Scores</th>\n",
              "      <th>Medication_History</th>\n",
              "      <th>Nutrition_Diet</th>\n",
              "      <th>Sleep_Quality</th>\n",
              "      <th>Chronic_Health_Conditions</th>\n",
              "      <th>Dementia</th>\n",
              "    </tr>\n",
              "  </thead>\n",
              "  <tbody>\n",
              "    <tr>\n",
              "      <th>0</th>\n",
              "      <td>1</td>\n",
              "      <td>0.084974</td>\n",
              "      <td>98</td>\n",
              "      <td>96.230743</td>\n",
              "      <td>36.224852</td>\n",
              "      <td>57.563978</td>\n",
              "      <td>36.421028</td>\n",
              "      <td>60</td>\n",
              "      <td>2</td>\n",
              "      <td>Left</td>\n",
              "      <td>...</td>\n",
              "      <td>Current Smoker</td>\n",
              "      <td>Negative</td>\n",
              "      <td>Sedentary</td>\n",
              "      <td>No</td>\n",
              "      <td>10</td>\n",
              "      <td>No</td>\n",
              "      <td>Low-Carb Diet</td>\n",
              "      <td>Poor</td>\n",
              "      <td>Diabetes</td>\n",
              "      <td>0</td>\n",
              "    </tr>\n",
              "    <tr>\n",
              "      <th>1</th>\n",
              "      <td>0</td>\n",
              "      <td>0.016973</td>\n",
              "      <td>78</td>\n",
              "      <td>93.032122</td>\n",
              "      <td>36.183874</td>\n",
              "      <td>56.832335</td>\n",
              "      <td>31.157633</td>\n",
              "      <td>61</td>\n",
              "      <td>3</td>\n",
              "      <td>Right</td>\n",
              "      <td>...</td>\n",
              "      <td>Former Smoker</td>\n",
              "      <td>Positive</td>\n",
              "      <td>Moderate Activity</td>\n",
              "      <td>No</td>\n",
              "      <td>1</td>\n",
              "      <td>Yes</td>\n",
              "      <td>Low-Carb Diet</td>\n",
              "      <td>Poor</td>\n",
              "      <td>Heart Disease</td>\n",
              "      <td>1</td>\n",
              "    </tr>\n",
              "  </tbody>\n",
              "</table>\n",
              "<p>2 rows × 22 columns</p>\n",
              "</div>"
            ],
            "text/plain": [
              "   Diabetic  AlcoholLevel  HeartRate  BloodOxygenLevel  BodyTemperature  \\\n",
              "0         1      0.084974         98         96.230743        36.224852   \n",
              "1         0      0.016973         78         93.032122        36.183874   \n",
              "\n",
              "      Weight  MRI_Delay  Age  Education_Level Dominant_Hand  ...  \\\n",
              "0  57.563978  36.421028   60                2          Left  ...   \n",
              "1  56.832335  31.157633   61                3         Right  ...   \n",
              "\n",
              "   Smoking_Status   APOE_ε4  Physical_Activity Depression_Status  \\\n",
              "0  Current Smoker  Negative          Sedentary                No   \n",
              "1   Former Smoker  Positive  Moderate Activity                No   \n",
              "\n",
              "  Cognitive_Test_Scores Medication_History  Nutrition_Diet Sleep_Quality  \\\n",
              "0                    10                 No   Low-Carb Diet          Poor   \n",
              "1                     1                Yes   Low-Carb Diet          Poor   \n",
              "\n",
              "  Chronic_Health_Conditions Dementia  \n",
              "0                  Diabetes        0  \n",
              "1             Heart Disease        1  \n",
              "\n",
              "[2 rows x 22 columns]"
            ]
          },
          "execution_count": 594,
          "metadata": {},
          "output_type": "execute_result"
        }
      ],
      "source": [
        "data1.head(2)"
      ]
    },
    {
      "cell_type": "code",
      "execution_count": 595,
      "metadata": {},
      "outputs": [],
      "source": [
        "# def save_encoder(data, column_name):\n",
        "#     encoder = LabelEncoder()\n",
        "#     data[column_name] = encoder.fit_transform(data[column_name])\n",
        "#     joblib.dump(encoder, f\"{column_name}_encoder.joblib\")\n",
        "#     return encoder\n",
        "\n",
        "\n",
        "# # Encode and save encoders for all categorical columns\n",
        "# education_level_encoder = save_encoder(data1, \"Education_Level\")\n",
        "# dominant_hand_encoder = save_encoder(data1, \"Dominant_Hand\")\n",
        "# gender_encoder = save_encoder(data1, \"Gender\")\n",
        "# family_history_encoder = save_encoder(data1, \"Family_History\")\n",
        "# smoking_status_encoder = save_encoder(data1, \"Smoking_Status\")\n",
        "# apoee4_encoder = save_encoder(data1, \"APOE_ε4\")\n",
        "# physical_activity_encoder = save_encoder(data1, \"Physical_Activity\")\n",
        "# depression_status_encoder = save_encoder(data1, \"Depression_Status\")\n",
        "# medication_history_encoder = save_encoder(data1, \"Medication_History\")\n",
        "# nutrition_diet_encoder = save_encoder(data1, \"Nutrition_Diet\")\n",
        "# sleep_quality_encoder = save_encoder(data1, \"Sleep_Quality\")\n",
        "# chronic_health_conditions_encoder = save_encoder(data1, \"Chronic_Health_Conditions\")"
      ]
    },
    {
      "cell_type": "code",
      "execution_count": 596,
      "metadata": {
        "colab": {
          "base_uri": "https://localhost:8080/"
        },
        "id": "Xw8KgSzkkLqi",
        "outputId": "886403e0-065e-4cb0-823a-452972a4f6c1"
      },
      "outputs": [
        {
          "name": "stdout",
          "output_type": "stream",
          "text": [
            "{'Diploma/Degree': 0, 'No School': 1, 'Primary School': 2, 'Secondary School': 3}\n"
          ]
        }
      ],
      "source": [
        "print(dict(zip(encoder.classes_, encoder.transform(encoder.classes_))))"
      ]
    },
    {
      "cell_type": "code",
      "execution_count": 597,
      "metadata": {
        "colab": {
          "base_uri": "https://localhost:8080/",
          "height": 358
        },
        "id": "8iMPxplwF1H_",
        "outputId": "42f7976c-fb3d-4671-b30b-e2edce88051a"
      },
      "outputs": [
        {
          "name": "stdout",
          "output_type": "stream",
          "text": [
            "{0: 0, 1: 1, 2: 2, 3: 3}\n",
            "{'Left': 0, 'Right': 1}\n",
            "{'Female': 0, 'Male': 1}\n",
            "{'No': 0, 'Yes': 1}\n",
            "{'Current Smoker': 0, 'Former Smoker': 1, 'Never Smoked': 2}\n",
            "{'Negative': 0, 'Positive': 1}\n",
            "{'Mild Activity': 0, 'Moderate Activity': 1, 'Sedentary': 2}\n",
            "{'No': 0, 'Yes': 1}\n",
            "{'No': 0, 'Yes': 1}\n",
            "{'Balanced Diet': 0, 'Low-Carb Diet': 1, 'Mediterranean Diet': 2}\n",
            "{'Good': 0, 'Poor': 1}\n",
            "{'Diabetes': 0, 'Heart Disease': 1, 'Hypertension': 2}\n"
          ]
        },
        {
          "data": {
            "text/html": [
              "<div>\n",
              "<style scoped>\n",
              "    .dataframe tbody tr th:only-of-type {\n",
              "        vertical-align: middle;\n",
              "    }\n",
              "\n",
              "    .dataframe tbody tr th {\n",
              "        vertical-align: top;\n",
              "    }\n",
              "\n",
              "    .dataframe thead th {\n",
              "        text-align: right;\n",
              "    }\n",
              "</style>\n",
              "<table border=\"1\" class=\"dataframe\">\n",
              "  <thead>\n",
              "    <tr style=\"text-align: right;\">\n",
              "      <th></th>\n",
              "      <th>Diabetic</th>\n",
              "      <th>AlcoholLevel</th>\n",
              "      <th>HeartRate</th>\n",
              "      <th>BloodOxygenLevel</th>\n",
              "      <th>BodyTemperature</th>\n",
              "      <th>Weight</th>\n",
              "      <th>MRI_Delay</th>\n",
              "      <th>Age</th>\n",
              "      <th>Education_Level</th>\n",
              "      <th>Dominant_Hand</th>\n",
              "      <th>...</th>\n",
              "      <th>Smoking_Status</th>\n",
              "      <th>APOE_ε4</th>\n",
              "      <th>Physical_Activity</th>\n",
              "      <th>Depression_Status</th>\n",
              "      <th>Cognitive_Test_Scores</th>\n",
              "      <th>Medication_History</th>\n",
              "      <th>Nutrition_Diet</th>\n",
              "      <th>Sleep_Quality</th>\n",
              "      <th>Chronic_Health_Conditions</th>\n",
              "      <th>Dementia</th>\n",
              "    </tr>\n",
              "  </thead>\n",
              "  <tbody>\n",
              "    <tr>\n",
              "      <th>0</th>\n",
              "      <td>1</td>\n",
              "      <td>0.084974</td>\n",
              "      <td>98</td>\n",
              "      <td>96.230743</td>\n",
              "      <td>36.224852</td>\n",
              "      <td>57.563978</td>\n",
              "      <td>36.421028</td>\n",
              "      <td>60</td>\n",
              "      <td>2</td>\n",
              "      <td>0</td>\n",
              "      <td>...</td>\n",
              "      <td>0</td>\n",
              "      <td>0</td>\n",
              "      <td>2</td>\n",
              "      <td>0</td>\n",
              "      <td>10</td>\n",
              "      <td>0</td>\n",
              "      <td>1</td>\n",
              "      <td>1</td>\n",
              "      <td>0</td>\n",
              "      <td>0</td>\n",
              "    </tr>\n",
              "    <tr>\n",
              "      <th>1</th>\n",
              "      <td>0</td>\n",
              "      <td>0.016973</td>\n",
              "      <td>78</td>\n",
              "      <td>93.032122</td>\n",
              "      <td>36.183874</td>\n",
              "      <td>56.832335</td>\n",
              "      <td>31.157633</td>\n",
              "      <td>61</td>\n",
              "      <td>3</td>\n",
              "      <td>1</td>\n",
              "      <td>...</td>\n",
              "      <td>1</td>\n",
              "      <td>1</td>\n",
              "      <td>1</td>\n",
              "      <td>0</td>\n",
              "      <td>1</td>\n",
              "      <td>1</td>\n",
              "      <td>1</td>\n",
              "      <td>1</td>\n",
              "      <td>1</td>\n",
              "      <td>1</td>\n",
              "    </tr>\n",
              "  </tbody>\n",
              "</table>\n",
              "<p>2 rows × 22 columns</p>\n",
              "</div>"
            ],
            "text/plain": [
              "   Diabetic  AlcoholLevel  HeartRate  BloodOxygenLevel  BodyTemperature  \\\n",
              "0         1      0.084974         98         96.230743        36.224852   \n",
              "1         0      0.016973         78         93.032122        36.183874   \n",
              "\n",
              "      Weight  MRI_Delay  Age  Education_Level  Dominant_Hand  ...  \\\n",
              "0  57.563978  36.421028   60                2              0  ...   \n",
              "1  56.832335  31.157633   61                3              1  ...   \n",
              "\n",
              "   Smoking_Status  APOE_ε4  Physical_Activity  Depression_Status  \\\n",
              "0               0        0                  2                  0   \n",
              "1               1        1                  1                  0   \n",
              "\n",
              "   Cognitive_Test_Scores  Medication_History  Nutrition_Diet  Sleep_Quality  \\\n",
              "0                     10                   0               1              1   \n",
              "1                      1                   1               1              1   \n",
              "\n",
              "   Chronic_Health_Conditions  Dementia  \n",
              "0                          0         0  \n",
              "1                          1         1  \n",
              "\n",
              "[2 rows x 22 columns]"
            ]
          },
          "execution_count": 597,
          "metadata": {},
          "output_type": "execute_result"
        }
      ],
      "source": [
        "# prompt: I also want want to encode the following columns: \"Dominant_Hand\",\"Gender\",\"Family_History\",\"Smoking_Status\",\"APOE_ε4\",\"Physical_Activity\",\"Depression_Status\",\"Medication_History\",\"Nutrition_Diet\",\"Sleep_Quality\",\"Chronic_Health_Conditions\"\n",
        "data1[\"Education_Level\"] = encoder.fit_transform(data1[\"Education_Level\"])\n",
        "print(dict(zip(encoder.classes_, encoder.transform(encoder.classes_))))\n",
        "data1['Dominant_Hand'] = encoder.fit_transform(data1['Dominant_Hand'])\n",
        "print(dict(zip(encoder.classes_, encoder.transform(encoder.classes_))))\n",
        "data1['Gender'] = encoder.fit_transform(data1['Gender'])\n",
        "print(dict(zip(encoder.classes_, encoder.transform(encoder.classes_))))\n",
        "data1['Family_History'] = encoder.fit_transform(data1['Family_History'])\n",
        "print(dict(zip(encoder.classes_, encoder.transform(encoder.classes_))))\n",
        "data1['Smoking_Status'] = encoder.fit_transform(data1['Smoking_Status'])\n",
        "print(dict(zip(encoder.classes_, encoder.transform(encoder.classes_))))\n",
        "data1['APOE_ε4'] = encoder.fit_transform(data1['APOE_ε4'])\n",
        "print(dict(zip(encoder.classes_, encoder.transform(encoder.classes_))))\n",
        "data1['Physical_Activity'] = encoder.fit_transform(data1['Physical_Activity'])\n",
        "print(dict(zip(encoder.classes_, encoder.transform(encoder.classes_))))\n",
        "data1['Depression_Status'] = encoder.fit_transform(data1['Depression_Status'])\n",
        "print(dict(zip(encoder.classes_, encoder.transform(encoder.classes_))))\n",
        "data1['Medication_History'] = encoder.fit_transform(data1['Medication_History'])\n",
        "print(dict(zip(encoder.classes_, encoder.transform(encoder.classes_))))\n",
        "data1['Nutrition_Diet'] = encoder.fit_transform(data1['Nutrition_Diet'])\n",
        "print(dict(zip(encoder.classes_, encoder.transform(encoder.classes_))))\n",
        "data1['Sleep_Quality'] = encoder.fit_transform(data1['Sleep_Quality'])\n",
        "print(dict(zip(encoder.classes_, encoder.transform(encoder.classes_))))\n",
        "data1['Chronic_Health_Conditions'] = encoder.fit_transform(data1['Chronic_Health_Conditions'])\n",
        "print(dict(zip(encoder.classes_, encoder.transform(encoder.classes_))))\n",
        "\n",
        "data1.head(2)"
      ]
    },
    {
      "cell_type": "code",
      "execution_count": 598,
      "metadata": {
        "colab": {
          "base_uri": "https://localhost:8080/"
        },
        "id": "X5nkFZN6HRZH",
        "outputId": "8ed1a8b7-c704-4b95-f7e7-51d57e6c5f42"
      },
      "outputs": [
        {
          "data": {
            "text/plain": [
              "(821, 22)"
            ]
          },
          "execution_count": 598,
          "metadata": {},
          "output_type": "execute_result"
        }
      ],
      "source": [
        "data1.shape"
      ]
    },
    {
      "cell_type": "code",
      "execution_count": 599,
      "metadata": {
        "id": "QckCfPqsHuI2"
      },
      "outputs": [],
      "source": [
        "X=data1.drop(columns=['Dementia'])"
      ]
    },
    {
      "cell_type": "code",
      "execution_count": 600,
      "metadata": {
        "id": "mHpY9zAIJHQE"
      },
      "outputs": [],
      "source": [
        "Y=data1['Dementia']"
      ]
    },
    {
      "cell_type": "code",
      "execution_count": 601,
      "metadata": {
        "colab": {
          "base_uri": "https://localhost:8080/"
        },
        "id": "bZPG2iSjJdSb",
        "outputId": "2cf4c30c-5421-4068-e648-334237d0cba2"
      },
      "outputs": [
        {
          "data": {
            "text/plain": [
              "((821, 21), (821,))"
            ]
          },
          "execution_count": 601,
          "metadata": {},
          "output_type": "execute_result"
        }
      ],
      "source": [
        "X.shape, Y.shape"
      ]
    },
    {
      "cell_type": "code",
      "execution_count": 602,
      "metadata": {
        "id": "xEvRi5NgJiK7"
      },
      "outputs": [],
      "source": [
        "x_train,x_test,y_train,y_test= train_test_split(X,Y, test_size=0.1,stratify=Y, random_state=42)"
      ]
    },
    {
      "cell_type": "code",
      "execution_count": 603,
      "metadata": {
        "id": "3ZRNSm9GKxBm"
      },
      "outputs": [],
      "source": [
        "model = LinearRegression()"
      ]
    },
    {
      "cell_type": "code",
      "execution_count": 604,
      "metadata": {
        "colab": {
          "base_uri": "https://localhost:8080/",
          "height": 75
        },
        "id": "sndEi5hOL0aB",
        "outputId": "9490d9d8-3763-499a-d37a-4ef94a723f1a"
      },
      "outputs": [
        {
          "data": {
            "text/html": [
              "<style>#sk-container-id-23 {color: black;background-color: white;}#sk-container-id-23 pre{padding: 0;}#sk-container-id-23 div.sk-toggleable {background-color: white;}#sk-container-id-23 label.sk-toggleable__label {cursor: pointer;display: block;width: 100%;margin-bottom: 0;padding: 0.3em;box-sizing: border-box;text-align: center;}#sk-container-id-23 label.sk-toggleable__label-arrow:before {content: \"▸\";float: left;margin-right: 0.25em;color: #696969;}#sk-container-id-23 label.sk-toggleable__label-arrow:hover:before {color: black;}#sk-container-id-23 div.sk-estimator:hover label.sk-toggleable__label-arrow:before {color: black;}#sk-container-id-23 div.sk-toggleable__content {max-height: 0;max-width: 0;overflow: hidden;text-align: left;background-color: #f0f8ff;}#sk-container-id-23 div.sk-toggleable__content pre {margin: 0.2em;color: black;border-radius: 0.25em;background-color: #f0f8ff;}#sk-container-id-23 input.sk-toggleable__control:checked~div.sk-toggleable__content {max-height: 200px;max-width: 100%;overflow: auto;}#sk-container-id-23 input.sk-toggleable__control:checked~label.sk-toggleable__label-arrow:before {content: \"▾\";}#sk-container-id-23 div.sk-estimator input.sk-toggleable__control:checked~label.sk-toggleable__label {background-color: #d4ebff;}#sk-container-id-23 div.sk-label input.sk-toggleable__control:checked~label.sk-toggleable__label {background-color: #d4ebff;}#sk-container-id-23 input.sk-hidden--visually {border: 0;clip: rect(1px 1px 1px 1px);clip: rect(1px, 1px, 1px, 1px);height: 1px;margin: -1px;overflow: hidden;padding: 0;position: absolute;width: 1px;}#sk-container-id-23 div.sk-estimator {font-family: monospace;background-color: #f0f8ff;border: 1px dotted black;border-radius: 0.25em;box-sizing: border-box;margin-bottom: 0.5em;}#sk-container-id-23 div.sk-estimator:hover {background-color: #d4ebff;}#sk-container-id-23 div.sk-parallel-item::after {content: \"\";width: 100%;border-bottom: 1px solid gray;flex-grow: 1;}#sk-container-id-23 div.sk-label:hover label.sk-toggleable__label {background-color: #d4ebff;}#sk-container-id-23 div.sk-serial::before {content: \"\";position: absolute;border-left: 1px solid gray;box-sizing: border-box;top: 0;bottom: 0;left: 50%;z-index: 0;}#sk-container-id-23 div.sk-serial {display: flex;flex-direction: column;align-items: center;background-color: white;padding-right: 0.2em;padding-left: 0.2em;position: relative;}#sk-container-id-23 div.sk-item {position: relative;z-index: 1;}#sk-container-id-23 div.sk-parallel {display: flex;align-items: stretch;justify-content: center;background-color: white;position: relative;}#sk-container-id-23 div.sk-item::before, #sk-container-id-23 div.sk-parallel-item::before {content: \"\";position: absolute;border-left: 1px solid gray;box-sizing: border-box;top: 0;bottom: 0;left: 50%;z-index: -1;}#sk-container-id-23 div.sk-parallel-item {display: flex;flex-direction: column;z-index: 1;position: relative;background-color: white;}#sk-container-id-23 div.sk-parallel-item:first-child::after {align-self: flex-end;width: 50%;}#sk-container-id-23 div.sk-parallel-item:last-child::after {align-self: flex-start;width: 50%;}#sk-container-id-23 div.sk-parallel-item:only-child::after {width: 0;}#sk-container-id-23 div.sk-dashed-wrapped {border: 1px dashed gray;margin: 0 0.4em 0.5em 0.4em;box-sizing: border-box;padding-bottom: 0.4em;background-color: white;}#sk-container-id-23 div.sk-label label {font-family: monospace;font-weight: bold;display: inline-block;line-height: 1.2em;}#sk-container-id-23 div.sk-label-container {text-align: center;}#sk-container-id-23 div.sk-container {/* jupyter's `normalize.less` sets `[hidden] { display: none; }` but bootstrap.min.css set `[hidden] { display: none !important; }` so we also need the `!important` here to be able to override the default hidden behavior on the sphinx rendered scikit-learn.org. See: https://github.com/scikit-learn/scikit-learn/issues/21755 */display: inline-block !important;position: relative;}#sk-container-id-23 div.sk-text-repr-fallback {display: none;}</style><div id=\"sk-container-id-23\" class=\"sk-top-container\"><div class=\"sk-text-repr-fallback\"><pre>LinearRegression()</pre><b>In a Jupyter environment, please rerun this cell to show the HTML representation or trust the notebook. <br />On GitHub, the HTML representation is unable to render, please try loading this page with nbviewer.org.</b></div><div class=\"sk-container\" hidden><div class=\"sk-item\"><div class=\"sk-estimator sk-toggleable\"><input class=\"sk-toggleable__control sk-hidden--visually\" id=\"sk-estimator-id-23\" type=\"checkbox\" checked><label for=\"sk-estimator-id-23\" class=\"sk-toggleable__label sk-toggleable__label-arrow\">LinearRegression</label><div class=\"sk-toggleable__content\"><pre>LinearRegression()</pre></div></div></div></div></div>"
            ],
            "text/plain": [
              "LinearRegression()"
            ]
          },
          "execution_count": 604,
          "metadata": {},
          "output_type": "execute_result"
        }
      ],
      "source": [
        "model.fit(x_train,y_train)"
      ]
    },
    {
      "cell_type": "code",
      "execution_count": 605,
      "metadata": {},
      "outputs": [
        {
          "data": {
            "text/plain": [
              "571    0\n",
              "970    0\n",
              "92     0\n",
              "529    0\n",
              "151    1\n",
              "      ..\n",
              "624    1\n",
              "417    1\n",
              "599    1\n",
              "743    1\n",
              "991    0\n",
              "Name: Dementia, Length: 738, dtype: int64"
            ]
          },
          "execution_count": 605,
          "metadata": {},
          "output_type": "execute_result"
        }
      ],
      "source": [
        "y_train"
      ]
    },
    {
      "cell_type": "code",
      "execution_count": 606,
      "metadata": {
        "colab": {
          "base_uri": "https://localhost:8080/"
        },
        "id": "TGsw8buOL_Av",
        "outputId": "9893d389-2ff5-416f-bb9f-a8906435f923"
      },
      "outputs": [
        {
          "name": "stdout",
          "output_type": "stream",
          "text": [
            "0.15862404662579854\n",
            "0.39827634454709776\n",
            "82.63519419097976\n",
            "82.63519419097976\n"
          ]
        }
      ],
      "source": [
        "# lets make predictions and determine our model accuracy\n",
        "y_pred = model.predict (x_test)\n",
        "mean_abl_err = mean_absolute_error(y_test, y_pred)\n",
        "print(mean_abl_err)\n",
        "\n",
        "mean_sq_err = np.sqrt(mean_absolute_error(y_test, y_pred))\n",
        "print(mean_sq_err)\n",
        "# percentage score\n",
        "print(model.score( x_test, y_test)*100)\n",
        "print(r2_score(y_test, y_pred)*100)"
      ]
    },
    {
      "cell_type": "code",
      "execution_count": 607,
      "metadata": {
        "colab": {
          "base_uri": "https://localhost:8080/",
          "height": 430
        },
        "id": "auIihMfz5mpx",
        "outputId": "94b276ec-2732-4265-8bd2-494c8f1b0a45"
      },
      "outputs": [
        {
          "data": {
            "image/png": "[encoded data removed]",
            "text/plain": [
              "<Figure size 640x480 with 1 Axes>"
            ]
          },
          "metadata": {},
          "output_type": "display_data"
        }
      ],
      "source": [
        "# Visualising the charts of my data and prediction\n",
        "y_test_values = y_test.values.flatten()\n",
        "\n",
        "plt.plot(y_test_values, label=\"Real Values\")\n",
        "plt.plot(y_pred, label='Predicted values')\n",
        "plt.legend()\n",
        "plt.show()\n"
      ]
    },
    {
      "cell_type": "code",
      "execution_count": 608,
      "metadata": {
        "colab": {
          "base_uri": "https://localhost:8080/"
        },
        "id": "1FVh9L325zFi",
        "outputId": "39697fb9-98aa-47b9-8cbf-af0ef6f457be"
      },
      "outputs": [
        {
          "data": {
            "text/plain": [
              "['dementia.joblib']"
            ]
          },
          "execution_count": 608,
          "metadata": {},
          "output_type": "execute_result"
        }
      ],
      "source": [
        "# Saving the model\n",
        "joblib.dump(model,'dementia.joblib')"
      ]
    },
    {
      "cell_type": "code",
      "execution_count": null,
      "metadata": {},
      "outputs": [],
      "source": []
    }
  ],
  "metadata": {
    "colab": {
      "provenance": []
    },
    "kernelspec": {
      "display_name": "Python 3",
      "name": "python3"
    },
    "language_info": {
      "codemirror_mode": {
        "name": "ipython",
        "version": 3
      },
      "file_extension": ".py",
      "mimetype": "text/x-python",
      "name": "python",
      "nbconvert_exporter": "python",
      "pygments_lexer": "ipython3",
      "version": "3.11.9"
    }
  },
  "nbformat": 4,
  "nbformat_minor": 0
}
